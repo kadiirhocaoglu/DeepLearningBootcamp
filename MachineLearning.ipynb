{
 "cells": [
  {
   "cell_type": "code",
   "execution_count": 2,
   "id": "d924f902-6112-411e-aa4f-cc52459f5ef2",
   "metadata": {},
   "outputs": [
    {
     "name": "stdout",
     "output_type": "stream",
     "text": [
      "hi\n"
     ]
    }
   ],
   "source": [
    "print(\"hi\")"
   ]
  },
  {
   "cell_type": "code",
   "execution_count": 3,
   "id": "5ec7d9f9-4bfa-4a39-90d4-2155892b2e50",
   "metadata": {},
   "outputs": [],
   "source": [
    "import numpy as np"
   ]
  },
  {
   "cell_type": "code",
   "execution_count": 4,
   "id": "3e893832-a0a7-489b-8cc3-63eb1283d7a5",
   "metadata": {},
   "outputs": [],
   "source": [
    "import pandas as pd"
   ]
  },
  {
   "cell_type": "code",
   "execution_count": 5,
   "id": "d123d73d-1344-44a8-92b9-b9084a853df5",
   "metadata": {},
   "outputs": [],
   "source": [
    "data = pd.read_csv('Desktop/Courses/DeepLearningBootcamp/Student_Marks.csv')"
   ]
  },
  {
   "cell_type": "code",
   "execution_count": 13,
   "id": "17c86d32-0f0a-4073-aa47-d66f98618822",
   "metadata": {},
   "outputs": [],
   "source": [
    "from sklearn.linear_model import LinearRegression"
   ]
  },
  {
   "cell_type": "code",
   "execution_count": 14,
   "id": "d85c3d79-053a-48c0-85cf-de7798a8d57b",
   "metadata": {},
   "outputs": [],
   "source": [
    "lm = LinearRegression()"
   ]
  },
  {
   "cell_type": "code",
   "execution_count": 39,
   "id": "f4c995fe-3bda-4b43-a001-2109456fc777",
   "metadata": {},
   "outputs": [],
   "source": [
    "X = data[[\"sinif\",\"sure\"]]"
   ]
  },
  {
   "cell_type": "code",
   "execution_count": 47,
   "id": "30bdc299-0454-4b6e-b7d3-b32e736b570a",
   "metadata": {},
   "outputs": [
    {
     "data": {
      "text/html": [
       "<div>\n",
       "<style scoped>\n",
       "    .dataframe tbody tr th:only-of-type {\n",
       "        vertical-align: middle;\n",
       "    }\n",
       "\n",
       "    .dataframe tbody tr th {\n",
       "        vertical-align: top;\n",
       "    }\n",
       "\n",
       "    .dataframe thead tr th {\n",
       "        text-align: left;\n",
       "    }\n",
       "</style>\n",
       "<table border=\"1\" class=\"dataframe\">\n",
       "  <thead>\n",
       "    <tr>\n",
       "      <th></th>\n",
       "      <th>sinif</th>\n",
       "      <th>sure</th>\n",
       "      <th>not</th>\n",
       "    </tr>\n",
       "  </thead>\n",
       "  <tbody>\n",
       "    <tr>\n",
       "      <th>0</th>\n",
       "      <td>3</td>\n",
       "      <td>4</td>\n",
       "      <td>19.202</td>\n",
       "    </tr>\n",
       "    <tr>\n",
       "      <th>1</th>\n",
       "      <td>4</td>\n",
       "      <td>0</td>\n",
       "      <td>7.734</td>\n",
       "    </tr>\n",
       "    <tr>\n",
       "      <th>2</th>\n",
       "      <td>4</td>\n",
       "      <td>3</td>\n",
       "      <td>13.811</td>\n",
       "    </tr>\n",
       "    <tr>\n",
       "      <th>3</th>\n",
       "      <td>6</td>\n",
       "      <td>7</td>\n",
       "      <td>53.018</td>\n",
       "    </tr>\n",
       "    <tr>\n",
       "      <th>4</th>\n",
       "      <td>8</td>\n",
       "      <td>7</td>\n",
       "      <td>55.299</td>\n",
       "    </tr>\n",
       "  </tbody>\n",
       "</table>\n",
       "</div>"
      ],
      "text/plain": [
       "  sinif sure     not\n",
       "0     3    4  19.202\n",
       "1     4    0   7.734\n",
       "2     4    3  13.811\n",
       "3     6    7  53.018\n",
       "4     8    7  55.299"
      ]
     },
     "execution_count": 47,
     "metadata": {},
     "output_type": "execute_result"
    }
   ],
   "source": [
    "data.head()"
   ]
  },
  {
   "cell_type": "code",
   "execution_count": 40,
   "id": "06d61317-9fb5-41d0-8eaf-cbb415bf9588",
   "metadata": {},
   "outputs": [],
   "source": [
    "y = data[[\"not\"]]"
   ]
  },
  {
   "cell_type": "code",
   "execution_count": 37,
   "id": "9f83778d-cc34-4320-a95e-3575efda799f",
   "metadata": {},
   "outputs": [],
   "source": [
    "data[[\"sure\"]] = data[[\"sure\"]].astype(np.int64)"
   ]
  },
  {
   "cell_type": "code",
   "execution_count": 41,
   "id": "de13b3bd-81cf-42e6-8d66-e1e3f0e8e302",
   "metadata": {},
   "outputs": [
    {
     "data": {
      "text/html": [
       "<div>\n",
       "<style scoped>\n",
       "    .dataframe tbody tr th:only-of-type {\n",
       "        vertical-align: middle;\n",
       "    }\n",
       "\n",
       "    .dataframe tbody tr th {\n",
       "        vertical-align: top;\n",
       "    }\n",
       "\n",
       "    .dataframe thead tr th {\n",
       "        text-align: left;\n",
       "    }\n",
       "</style>\n",
       "<table border=\"1\" class=\"dataframe\">\n",
       "  <thead>\n",
       "    <tr>\n",
       "      <th></th>\n",
       "      <th>sinif</th>\n",
       "      <th>sure</th>\n",
       "    </tr>\n",
       "  </thead>\n",
       "  <tbody>\n",
       "    <tr>\n",
       "      <th>0</th>\n",
       "      <td>3</td>\n",
       "      <td>4</td>\n",
       "    </tr>\n",
       "    <tr>\n",
       "      <th>1</th>\n",
       "      <td>4</td>\n",
       "      <td>0</td>\n",
       "    </tr>\n",
       "    <tr>\n",
       "      <th>2</th>\n",
       "      <td>4</td>\n",
       "      <td>3</td>\n",
       "    </tr>\n",
       "    <tr>\n",
       "      <th>3</th>\n",
       "      <td>6</td>\n",
       "      <td>7</td>\n",
       "    </tr>\n",
       "    <tr>\n",
       "      <th>4</th>\n",
       "      <td>8</td>\n",
       "      <td>7</td>\n",
       "    </tr>\n",
       "    <tr>\n",
       "      <th>...</th>\n",
       "      <td>...</td>\n",
       "      <td>...</td>\n",
       "    </tr>\n",
       "    <tr>\n",
       "      <th>95</th>\n",
       "      <td>6</td>\n",
       "      <td>3</td>\n",
       "    </tr>\n",
       "    <tr>\n",
       "      <th>96</th>\n",
       "      <td>3</td>\n",
       "      <td>0</td>\n",
       "    </tr>\n",
       "    <tr>\n",
       "      <th>97</th>\n",
       "      <td>4</td>\n",
       "      <td>7</td>\n",
       "    </tr>\n",
       "    <tr>\n",
       "      <th>98</th>\n",
       "      <td>7</td>\n",
       "      <td>0</td>\n",
       "    </tr>\n",
       "    <tr>\n",
       "      <th>99</th>\n",
       "      <td>3</td>\n",
       "      <td>6</td>\n",
       "    </tr>\n",
       "  </tbody>\n",
       "</table>\n",
       "<p>100 rows × 2 columns</p>\n",
       "</div>"
      ],
      "text/plain": [
       "   sinif sure\n",
       "0      3    4\n",
       "1      4    0\n",
       "2      4    3\n",
       "3      6    7\n",
       "4      8    7\n",
       "..   ...  ...\n",
       "95     6    3\n",
       "96     3    0\n",
       "97     4    7\n",
       "98     7    0\n",
       "99     3    6\n",
       "\n",
       "[100 rows x 2 columns]"
      ]
     },
     "execution_count": 41,
     "metadata": {},
     "output_type": "execute_result"
    }
   ],
   "source": [
    "X"
   ]
  },
  {
   "cell_type": "code",
   "execution_count": 42,
   "id": "af1921f5-d6e8-4296-bcd6-710fc9ab6867",
   "metadata": {},
   "outputs": [],
   "source": [
    "model = lm.fit(X, y)"
   ]
  },
  {
   "cell_type": "code",
   "execution_count": 43,
   "id": "92b16c2b-6b63-48f2-bcc5-e078789df500",
   "metadata": {},
   "outputs": [
    {
     "data": {
      "text/plain": [
       "array([[29.51381349]])"
      ]
     },
     "execution_count": 43,
     "metadata": {},
     "output_type": "execute_result"
    }
   ],
   "source": [
    "model.predict([[4,5]])"
   ]
  },
  {
   "cell_type": "code",
   "execution_count": 44,
   "id": "28d6f4f0-ece4-45fa-bccf-f39ab7cdb567",
   "metadata": {},
   "outputs": [
    {
     "data": {
      "text/plain": [
       "array([[1.99330708, 5.36188086]])"
      ]
     },
     "execution_count": 44,
     "metadata": {},
     "output_type": "execute_result"
    }
   ],
   "source": [
    "model.coef_ #katsayilar"
   ]
  },
  {
   "cell_type": "code",
   "execution_count": 45,
   "id": "4fb310f4-49a0-495b-818b-3ddcf39abf37",
   "metadata": {},
   "outputs": [
    {
     "data": {
      "text/plain": [
       "array([-5.26881915])"
      ]
     },
     "execution_count": 45,
     "metadata": {},
     "output_type": "execute_result"
    }
   ],
   "source": [
    "model.intercept_  #sabit sayi"
   ]
  },
  {
   "cell_type": "code",
   "execution_count": 48,
   "id": "44da1dc5-8fea-4a33-ba9a-bc07a30ac221",
   "metadata": {},
   "outputs": [
    {
     "data": {
      "text/plain": [
       "array([[22.15862555]])"
      ]
     },
     "execution_count": 48,
     "metadata": {},
     "output_type": "execute_result"
    }
   ],
   "source": [
    "model.predict([[3,4]])"
   ]
  },
  {
   "cell_type": "code",
   "execution_count": 49,
   "id": "ba722eb6-6ca3-4671-9263-99f635bfdc57",
   "metadata": {},
   "outputs": [
    {
     "data": {
      "text/plain": [
       "22.158625530000002"
      ]
     },
     "execution_count": 49,
     "metadata": {},
     "output_type": "execute_result"
    }
   ],
   "source": [
    "(1.99330708*3) + ( 5.36188086*4) +(-5.26881915)"
   ]
  },
  {
   "cell_type": "code",
   "execution_count": 76,
   "id": "f3534e64-28de-43e2-b358-961a9db0f6d7",
   "metadata": {},
   "outputs": [
    {
     "data": {
      "text/plain": [
       "0.9308913845436668"
      ]
     },
     "execution_count": 76,
     "metadata": {},
     "output_type": "execute_result"
    }
   ],
   "source": [
    "model.score(X,y)"
   ]
  },
  {
   "cell_type": "code",
   "execution_count": 77,
   "id": "e3281d75-ecd9-49bd-955f-b3fe9ead7442",
   "metadata": {},
   "outputs": [
    {
     "ename": "AttributeError",
     "evalue": "'LinearRegression' object has no attribute 'accurency'",
     "output_type": "error",
     "traceback": [
      "\u001b[0;31m---------------------------------------------------------------------------\u001b[0m",
      "\u001b[0;31mAttributeError\u001b[0m                            Traceback (most recent call last)",
      "Cell \u001b[0;32mIn[77], line 1\u001b[0m\n\u001b[0;32m----> 1\u001b[0m model\u001b[38;5;241m.\u001b[39maccurency(X,y)\n",
      "\u001b[0;31mAttributeError\u001b[0m: 'LinearRegression' object has no attribute 'accurency'"
     ]
    }
   ],
   "source": [
    " "
   ]
  },
  {
   "cell_type": "code",
   "execution_count": null,
   "id": "4f5848c3-29e3-46b1-96f6-4f64df1c3bd3",
   "metadata": {},
   "outputs": [],
   "source": []
  }
 ],
 "metadata": {
  "kernelspec": {
   "display_name": "Python 3 (ipykernel)",
   "language": "python",
   "name": "python3"
  },
  "language_info": {
   "codemirror_mode": {
    "name": "ipython",
    "version": 3
   },
   "file_extension": ".py",
   "mimetype": "text/x-python",
   "name": "python",
   "nbconvert_exporter": "python",
   "pygments_lexer": "ipython3",
   "version": "3.11.7"
  }
 },
 "nbformat": 4,
 "nbformat_minor": 5
}
