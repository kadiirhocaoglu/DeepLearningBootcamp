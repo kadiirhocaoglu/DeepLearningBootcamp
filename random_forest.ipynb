{
 "cells": [
  {
   "cell_type": "code",
   "execution_count": 1,
   "id": "3bf88a20-430c-4d9f-a4e8-2e63f4d441e0",
   "metadata": {},
   "outputs": [],
   "source": [
    "import numpy as np"
   ]
  },
  {
   "cell_type": "code",
   "execution_count": 2,
   "id": "85e21aa1-f239-4cdc-85f7-900d3df4779b",
   "metadata": {},
   "outputs": [],
   "source": [
    "import pandas as pd"
   ]
  },
  {
   "cell_type": "code",
   "execution_count": 4,
   "id": "9b574e26-01fe-46b4-ae8f-7320c8364844",
   "metadata": {},
   "outputs": [],
   "source": [
    "from sklearn.linear_model import LinearRegression"
   ]
  },
  {
   "cell_type": "code",
   "execution_count": 5,
   "id": "2904900c-c9bf-496e-a4e8-6dc0d8c9f35f",
   "metadata": {},
   "outputs": [],
   "source": [
    "from sklearn.ensemble import RandomForestRegressor"
   ]
  },
  {
   "cell_type": "code",
   "execution_count": 6,
   "id": "a68016c4-66cf-4fea-b2ba-3abde803357e",
   "metadata": {},
   "outputs": [],
   "source": [
    "from sklearn.model_selection import train_test_split"
   ]
  },
  {
   "cell_type": "code",
   "execution_count": 8,
   "id": "6ee8d6da-f531-4456-9a43-77f86d0007d9",
   "metadata": {},
   "outputs": [],
   "source": [
    " df = pd.read_csv('datasets/acl.csv')"
   ]
  },
  {
   "cell_type": "code",
   "execution_count": 10,
   "id": "f3619f05-4c4e-4f46-b160-b52a163981fd",
   "metadata": {},
   "outputs": [
    {
     "data": {
      "text/html": [
       "<div>\n",
       "<style scoped>\n",
       "    .dataframe tbody tr th:only-of-type {\n",
       "        vertical-align: middle;\n",
       "    }\n",
       "\n",
       "    .dataframe tbody tr th {\n",
       "        vertical-align: top;\n",
       "    }\n",
       "\n",
       "    .dataframe thead th {\n",
       "        text-align: right;\n",
       "    }\n",
       "</style>\n",
       "<table border=\"1\" class=\"dataframe\">\n",
       "  <thead>\n",
       "    <tr style=\"text-align: right;\">\n",
       "      <th></th>\n",
       "      <th>Acil Durum Cümlesi</th>\n",
       "      <th>Aciliyet Puanı</th>\n",
       "    </tr>\n",
       "  </thead>\n",
       "  <tbody>\n",
       "    <tr>\n",
       "      <th>0</th>\n",
       "      <td>Yangın çıktı!</td>\n",
       "      <td>Yüksek</td>\n",
       "    </tr>\n",
       "    <tr>\n",
       "      <th>1</th>\n",
       "      <td>Kimyasal sızıntı oldu!</td>\n",
       "      <td>Yüksek</td>\n",
       "    </tr>\n",
       "    <tr>\n",
       "      <th>2</th>\n",
       "      <td>Deprem meydana geldi!</td>\n",
       "      <td>Yüksek</td>\n",
       "    </tr>\n",
       "    <tr>\n",
       "      <th>3</th>\n",
       "      <td>Su baskını yaşanıyor!</td>\n",
       "      <td>Yüksek</td>\n",
       "    </tr>\n",
       "    <tr>\n",
       "      <th>4</th>\n",
       "      <td>Elektrik kesintisi oldu!</td>\n",
       "      <td>Orta</td>\n",
       "    </tr>\n",
       "  </tbody>\n",
       "</table>\n",
       "</div>"
      ],
      "text/plain": [
       "         Acil Durum Cümlesi Aciliyet Puanı\n",
       "0             Yangın çıktı!         Yüksek\n",
       "1    Kimyasal sızıntı oldu!         Yüksek\n",
       "2     Deprem meydana geldi!         Yüksek\n",
       "3     Su baskını yaşanıyor!         Yüksek\n",
       "4  Elektrik kesintisi oldu!           Orta"
      ]
     },
     "execution_count": 10,
     "metadata": {},
     "output_type": "execute_result"
    }
   ],
   "source": [
    "df.head()"
   ]
  },
  {
   "cell_type": "code",
   "execution_count": 13,
   "id": "61a9869c-1bc6-4728-9cb5-612f43674c27",
   "metadata": {},
   "outputs": [],
   "source": [
    "df.columns = ['key','value']"
   ]
  },
  {
   "cell_type": "code",
   "execution_count": 14,
   "id": "796d3552-81ec-4bf0-8d6e-4220936ac097",
   "metadata": {},
   "outputs": [
    {
     "data": {
      "text/html": [
       "<div>\n",
       "<style scoped>\n",
       "    .dataframe tbody tr th:only-of-type {\n",
       "        vertical-align: middle;\n",
       "    }\n",
       "\n",
       "    .dataframe tbody tr th {\n",
       "        vertical-align: top;\n",
       "    }\n",
       "\n",
       "    .dataframe thead th {\n",
       "        text-align: right;\n",
       "    }\n",
       "</style>\n",
       "<table border=\"1\" class=\"dataframe\">\n",
       "  <thead>\n",
       "    <tr style=\"text-align: right;\">\n",
       "      <th></th>\n",
       "      <th>key</th>\n",
       "      <th>value</th>\n",
       "    </tr>\n",
       "  </thead>\n",
       "  <tbody>\n",
       "    <tr>\n",
       "      <th>0</th>\n",
       "      <td>Yangın çıktı!</td>\n",
       "      <td>Yüksek</td>\n",
       "    </tr>\n",
       "    <tr>\n",
       "      <th>1</th>\n",
       "      <td>Kimyasal sızıntı oldu!</td>\n",
       "      <td>Yüksek</td>\n",
       "    </tr>\n",
       "    <tr>\n",
       "      <th>2</th>\n",
       "      <td>Deprem meydana geldi!</td>\n",
       "      <td>Yüksek</td>\n",
       "    </tr>\n",
       "    <tr>\n",
       "      <th>3</th>\n",
       "      <td>Su baskını yaşanıyor!</td>\n",
       "      <td>Yüksek</td>\n",
       "    </tr>\n",
       "    <tr>\n",
       "      <th>4</th>\n",
       "      <td>Elektrik kesintisi oldu!</td>\n",
       "      <td>Orta</td>\n",
       "    </tr>\n",
       "  </tbody>\n",
       "</table>\n",
       "</div>"
      ],
      "text/plain": [
       "                        key   value\n",
       "0             Yangın çıktı!  Yüksek\n",
       "1    Kimyasal sızıntı oldu!  Yüksek\n",
       "2     Deprem meydana geldi!  Yüksek\n",
       "3     Su baskını yaşanıyor!  Yüksek\n",
       "4  Elektrik kesintisi oldu!    Orta"
      ]
     },
     "execution_count": 14,
     "metadata": {},
     "output_type": "execute_result"
    }
   ],
   "source": [
    "df.head()"
   ]
  },
  {
   "cell_type": "code",
   "execution_count": null,
   "id": "a918679a-e7f8-4b67-9bfd-24abb075bdd8",
   "metadata": {},
   "outputs": [],
   "source": []
  }
 ],
 "metadata": {
  "kernelspec": {
   "display_name": "Python 3 (ipykernel)",
   "language": "python",
   "name": "python3"
  },
  "language_info": {
   "codemirror_mode": {
    "name": "ipython",
    "version": 3
   },
   "file_extension": ".py",
   "mimetype": "text/x-python",
   "name": "python",
   "nbconvert_exporter": "python",
   "pygments_lexer": "ipython3",
   "version": "3.11.7"
  }
 },
 "nbformat": 4,
 "nbformat_minor": 5
}
